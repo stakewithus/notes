{
 "cells": [
  {
   "cell_type": "code",
   "execution_count": 10,
   "id": "21fa60fc-9319-4a6f-b02f-0053e5afd2e0",
   "metadata": {},
   "outputs": [
    {
     "name": "stdout",
     "output_type": "stream",
     "text": [
      "0 1 3 3\n",
      "1 2 9 9\n",
      "2 4 81 81\n",
      "3 8 6561 6561\n",
      "4 16 43046721 43046721\n"
     ]
    }
   ],
   "source": [
    "def pow_2n(x, n):\n",
    "    if n == 0:\n",
    "        return 1\n",
    "    while n > 0:\n",
    "        x = x * x\n",
    "        n //= 2\n",
    "    return x\n",
    "\n",
    "for i in range(0, 5):\n",
    "    print(i, 2**i, pow(3, (2**i)), 3**(2**i))"
   ]
  },
  {
   "cell_type": "code",
   "execution_count": 13,
   "id": "35af4a44-fca8-4a74-b133-622c9201a81a",
   "metadata": {},
   "outputs": [
    {
     "name": "stdout",
     "output_type": "stream",
     "text": [
      "0 1 1\n",
      "1 3 3\n",
      "2 9 9\n",
      "3 27 27\n",
      "4 81 81\n",
      "5 243 243\n",
      "6 729 729\n",
      "7 2187 2187\n",
      "8 6561 6561\n",
      "9 19683 19683\n",
      "10 59049 59049\n",
      "11 177147 177147\n",
      "12 531441 531441\n",
      "13 1594323 1594323\n",
      "14 4782969 4782969\n",
      "15 14348907 14348907\n",
      "16 43046721 43046721\n",
      "17 129140163 129140163\n",
      "18 387420489 387420489\n",
      "19 1162261467 1162261467\n",
      "20 3486784401 3486784401\n",
      "21 10460353203 10460353203\n",
      "22 31381059609 31381059609\n",
      "23 94143178827 94143178827\n",
      "24 282429536481 282429536481\n",
      "25 847288609443 847288609443\n",
      "26 2541865828329 2541865828329\n",
      "27 7625597484987 7625597484987\n",
      "28 22876792454961 22876792454961\n",
      "29 68630377364883 68630377364883\n"
     ]
    }
   ],
   "source": [
    "def pow(x, n):\n",
    "    z = 1\n",
    "    while n > 0:\n",
    "        if n % 2 == 1:\n",
    "            z *= x\n",
    "        # x*x not needed when n = 1\n",
    "        x = x*x\n",
    "        n //= 2\n",
    "    return z\n",
    "\n",
    "for i in range(0, 20):\n",
    "    print(i, pow(3, i), 3**i)"
   ]
  },
  {
   "cell_type": "code",
   "execution_count": 17,
   "id": "b090e5a2-3172-49bd-a883-9b35719b20ac",
   "metadata": {},
   "outputs": [
    {
     "name": "stdout",
     "output_type": "stream",
     "text": [
      "0 1000 1000\n",
      "1 3000 3000\n",
      "2 9000 9000\n",
      "3 27000 27000\n",
      "4 81000 81000\n",
      "5 243000 243000\n",
      "6 729000 729000\n",
      "7 2187000 2187000\n",
      "8 6561000 6561000\n",
      "9 19683000 19683000\n",
      "10 59049000 59049000\n",
      "11 177147000 177147000\n",
      "12 531441000 531441000\n",
      "13 1594323000 1594323000\n",
      "14 4782969000 4782969000\n",
      "15 14348907000 14348907000\n",
      "16 43046721000 43046721000\n",
      "17 129140163000 129140163000\n",
      "18 387420489000 387420489000\n",
      "19 1162261467000 1162261467000\n"
     ]
    }
   ],
   "source": [
    "# Fixed point decimals b\n",
    "def pow_fixed_point(x, n, b):\n",
    "    z = b\n",
    "    while n > 0:\n",
    "        if n % 2 == 1:\n",
    "            z *= x\n",
    "            z //= b\n",
    "        # x*x not needed when n = 1\n",
    "        x = x*x\n",
    "        x //= b\n",
    "        n //= 2\n",
    "    return z\n",
    "\n",
    "b = 1000\n",
    "for i in range(0, 20):\n",
    "    print(i, pow_fixed_point(3*b, i, b), 3**i*b)"
   ]
  }
 ],
 "metadata": {
  "kernelspec": {
   "display_name": "Python 3 (ipykernel)",
   "language": "python",
   "name": "python3"
  },
  "language_info": {
   "codemirror_mode": {
    "name": "ipython",
    "version": 3
   },
   "file_extension": ".py",
   "mimetype": "text/x-python",
   "name": "python",
   "nbconvert_exporter": "python",
   "pygments_lexer": "ipython3",
   "version": "3.10.7"
  }
 },
 "nbformat": 4,
 "nbformat_minor": 5
}
