{
 "cells": [
  {
   "cell_type": "code",
   "execution_count": 1,
   "id": "2fdc9ff5",
   "metadata": {},
   "outputs": [
    {
     "name": "stdout",
     "output_type": "stream",
     "text": [
      "[0, 0, 0, 0, 1, 1, 1, 1, 1, 1, 0, 0, 1, 1, 0, 1, 0, 0, 1, 1, 0, 1, 0, 1, 1, 0, 1, 0, 1, 0, 0, 0, 0, 1, 0, 1, 1, 0, 0, 0, 0, 1, 1, 1, 1, 0, 0, 1, 0, 0, 1, 1, 1, 1, 1, 0, 0, 0, 0, 0, 0, 0, 0, 0, 0, 0, 0, 0, 0, 0, 0, 0, 0, 0, 0, 0, 0, 0, 0, 0, 0, 0, 0, 0, 0, 0, 0, 0, 0, 0, 0, 0, 0, 0, 0, 0, 0, 0, 0, 0, 0]\n"
     ]
    },
    {
     "data": {
      "text/plain": [
       "0.12345"
      ]
     },
     "execution_count": 1,
     "metadata": {},
     "output_type": "execute_result"
    }
   ],
   "source": [
    "def dec_to_bin(y):\n",
    "    # y = y_0 + 1/2 * y_1 + 1/4 * y_2 + 1/8 * y_3 + ...\n",
    "    #   = y_0 + 1/2 * (y_1 + 1/2 * (y_2 + 1/2 * (y_3 + ...)))\n",
    "\n",
    "    # 0 <= y < 1 so y_0 = 0\n",
    "    assert 0 <= y < 1\n",
    "\n",
    "    # N + 1 bits\n",
    "    N = 100\n",
    "    ys = [0]\n",
    "\n",
    "    for i in range(1, N + 1):\n",
    "        y = 2 * y\n",
    "        # 2y >= 1 implies y_i = 1\n",
    "        # 2y <  1 implies y_i = 0\n",
    "        if y >= 1:\n",
    "            ys.append(1)\n",
    "            y -= 1\n",
    "        else:\n",
    "            ys.append(0)\n",
    "    return ys\n",
    "\n",
    "def bin_to_dec(ys):\n",
    "    y = 0\n",
    "    for i in range(len(ys)):\n",
    "        y += ys[i] * (2 ** -i)\n",
    "    return y\n",
    "\n",
    "y = 0.12345\n",
    "\n",
    "ys = dec_to_bin(y)\n",
    "print(ys)\n",
    "\n",
    "bin_to_dec(ys)"
   ]
  },
  {
   "cell_type": "code",
   "execution_count": 2,
   "id": "c628cdc4",
   "metadata": {},
   "outputs": [
    {
     "data": {
      "text/plain": [
       "(0.30392683648069474, 0.30392683648069474)"
      ]
     },
     "execution_count": 2,
     "metadata": {},
     "output_type": "execute_result"
    }
   ],
   "source": [
    "import math\n",
    "\n",
    "def log2(x):\n",
    "    assert 1 <= x < 2\n",
    "\n",
    "    if x == 1:\n",
    "        return 0\n",
    "\n",
    "    y = 0\n",
    "\n",
    "    base = 1\n",
    "    for i in range(1, 100):\n",
    "        base = base / 2\n",
    "\n",
    "        # log2(x) = y\n",
    "        # x = 2^y\n",
    "        # x^2 = 2^(2y)\n",
    "\n",
    "        # if x^2 = 2^(2y) >= 2 then 2y >= 1\n",
    "        # 2y >= 1 implies y_i = 1\n",
    "        # 2y <  1 implies y_i = 0\n",
    "        x = x * x\n",
    "        if x >= 2:\n",
    "            y += base\n",
    "            x = x / 2\n",
    "\n",
    "    return y\n",
    "\n",
    "math.log2(1.2345), log2(1.2345)"
   ]
  }
 ],
 "metadata": {
  "kernelspec": {
   "display_name": "Python 3 (ipykernel)",
   "language": "python",
   "name": "python3"
  },
  "language_info": {
   "codemirror_mode": {
    "name": "ipython",
    "version": 3
   },
   "file_extension": ".py",
   "mimetype": "text/x-python",
   "name": "python",
   "nbconvert_exporter": "python",
   "pygments_lexer": "ipython3",
   "version": "3.10.8"
  }
 },
 "nbformat": 4,
 "nbformat_minor": 5
}
