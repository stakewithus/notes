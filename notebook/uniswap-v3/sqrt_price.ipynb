{
 "cells": [
  {
   "cell_type": "code",
   "execution_count": 2,
   "id": "211c55a0-9656-48cc-8bc0-d7c3a913ba19",
   "metadata": {},
   "outputs": [
    {
     "data": {
      "text/plain": [
       "1888.9727296834467"
      ]
     },
     "execution_count": 2,
     "metadata": {},
     "output_type": "execute_result"
    }
   ],
   "source": [
    "sqrt_price_x_96 = 3443439269043970780644209\n",
    "q = 2 ** 96\n",
    "p = (sqrt_price_x_96 / q)**2 \n",
    "\n",
    "# token 0 = ETH\n",
    "decimals_0 = 1e18\n",
    "# token 1 = USDC\n",
    "decimals_1 = 1e6\n",
    "\n",
    "p * decimals_0 / decimals_1"
   ]
  }
 ],
 "metadata": {
  "kernelspec": {
   "display_name": "Python 3 (ipykernel)",
   "language": "python",
   "name": "python3"
  },
  "language_info": {
   "codemirror_mode": {
    "name": "ipython",
    "version": 3
   },
   "file_extension": ".py",
   "mimetype": "text/x-python",
   "name": "python",
   "nbconvert_exporter": "python",
   "pygments_lexer": "ipython3",
   "version": "3.10.11"
  }
 },
 "nbformat": 4,
 "nbformat_minor": 5
}
