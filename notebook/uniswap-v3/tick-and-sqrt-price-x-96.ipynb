{
 "cells": [
  {
   "cell_type": "code",
   "execution_count": 1,
   "id": "5351fcdb",
   "metadata": {},
   "outputs": [
    {
     "name": "stdout",
     "output_type": "stream",
     "text": [
      "2198795518956857915306525730013184\n",
      "204632\n"
     ]
    }
   ],
   "source": [
    "import math\n",
    "\n",
    "Q96 = 2**96\n",
    "\n",
    "def tick_to_sqrt_price_x_96(tick):\n",
    "    return int(1.0001 ** (tick / 2) * Q96)\n",
    "\n",
    "tick = 204632\n",
    "print(tick_to_sqrt_price_x_96(tick))\n",
    "\n",
    "def sqrt_price_x_96_to_tick(sqrt_price_x_96):\n",
    "    base = math.sqrt(1.0001)\n",
    "    p = sqrt_price_x_96 / Q96\n",
    "    return math.floor(math.log(p, base))\n",
    "\n",
    "sqrt_price_x_96 = 2198835844819193856025769912483279\n",
    "print(sqrt_price_x_96_to_tick(sqrt_price_x_96))"
   ]
  }
 ],
 "metadata": {
  "kernelspec": {
   "display_name": "Python 3 (ipykernel)",
   "language": "python",
   "name": "python3"
  },
  "language_info": {
   "codemirror_mode": {
    "name": "ipython",
    "version": 3
   },
   "file_extension": ".py",
   "mimetype": "text/x-python",
   "name": "python",
   "nbconvert_exporter": "python",
   "pygments_lexer": "ipython3",
   "version": "3.10.7"
  }
 },
 "nbformat": 4,
 "nbformat_minor": 5
}
