{
 "cells": [
  {
   "cell_type": "code",
   "execution_count": 6,
   "id": "f531723c-e81b-4358-bb2f-efdaeb92954f",
   "metadata": {},
   "outputs": [
    {
     "data": {
      "text/plain": [
       "-200920.392088956"
      ]
     },
     "execution_count": 6,
     "metadata": {},
     "output_type": "execute_result"
    }
   ],
   "source": [
    "import math\n",
    "\n",
    "sqrt_price = 3436899527919986964832931\n",
    "q = 2 ** 96\n",
    "tick = -200921\n",
    "\n",
    "tick = 2 * math.log(sqrt_price / q) / math.log(1.0001)\n",
    "tick"
   ]
  }
 ],
 "metadata": {
  "kernelspec": {
   "display_name": "Python 3 (ipykernel)",
   "language": "python",
   "name": "python3"
  },
  "language_info": {
   "codemirror_mode": {
    "name": "ipython",
    "version": 3
   },
   "file_extension": ".py",
   "mimetype": "text/x-python",
   "name": "python",
   "nbconvert_exporter": "python",
   "pygments_lexer": "ipython3",
   "version": "3.10.11"
  }
 },
 "nbformat": 4,
 "nbformat_minor": 5
}
