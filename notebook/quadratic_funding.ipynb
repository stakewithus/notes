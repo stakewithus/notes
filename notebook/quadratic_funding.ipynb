{
 "cells": [
  {
   "cell_type": "code",
   "execution_count": 21,
   "id": "ade4a320-bf47-4384-8e5a-4f15305c9136",
   "metadata": {},
   "outputs": [
    {
     "name": "stdout",
     "output_type": "stream",
     "text": [
      "qf scores: [5000.0, 2000.0000000000002, 20000.0]\n",
      "matched amounts: [1851.8518518518517, 740.7407407407409, 7407.407407407407]\n",
      "% matched: [1.8518518518518516, 0.7407407407407409, 7.4074074074074066]\n"
     ]
    }
   ],
   "source": [
    "import math\n",
    "\n",
    "project_contributions = [\n",
    "    [200 for _ in range(5)],\n",
    "    [500, 500],\n",
    "    [50 for _ in range(20)]\n",
    "]\n",
    "\n",
    "def calc_qf_score(contributions):\n",
    "    x = sum(map(math.sqrt, contributions))\n",
    "    return x * x\n",
    "\n",
    "qf_scores = []\n",
    "for contributions in project_contributions:\n",
    "    qf_scores.append(calc_qf_score(contributions))\n",
    "\n",
    "qf_total = sum(qf_scores)\n",
    "\n",
    "pool = 10000\n",
    "\n",
    "matched_amounts = []\n",
    "for i in range(len(project_contributions)):\n",
    "    matched_amounts.append(qf_scores[i] / qf_total * pool)\n",
    "\n",
    "matched_rates = []\n",
    "for i in range(len(project_contributions)):\n",
    "    matched_rates.append(matched_amounts[i] / sum(project_contributions[i]))\n",
    "\n",
    "print(\"qf scores:\", qf_scores)\n",
    "print(\"matched amounts:\", matched_amounts)\n",
    "print(\"% matched:\", matched_rates) "
   ]
  }
 ],
 "metadata": {
  "kernelspec": {
   "display_name": "Python 3 (ipykernel)",
   "language": "python",
   "name": "python3"
  },
  "language_info": {
   "codemirror_mode": {
    "name": "ipython",
    "version": 3
   },
   "file_extension": ".py",
   "mimetype": "text/x-python",
   "name": "python",
   "nbconvert_exporter": "python",
   "pygments_lexer": "ipython3",
   "version": "3.10.11"
  }
 },
 "nbformat": 4,
 "nbformat_minor": 5
}
