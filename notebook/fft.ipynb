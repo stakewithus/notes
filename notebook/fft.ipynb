{
 "cells": [
  {
   "cell_type": "code",
   "execution_count": 28,
   "id": "f8559a49-563f-4b97-b98e-07dac269dd20",
   "metadata": {},
   "outputs": [],
   "source": [
    "def eval_poly(p, x0):\n",
    "    \"\"\"\n",
    "    Evaluate polynomial at x0\n",
    "    \"\"\"\n",
    "    y = 0\n",
    "    x = 1\n",
    "    for c in p:\n",
    "        y += c * x\n",
    "        x *= x0\n",
    "    return y"
   ]
  },
  {
   "cell_type": "code",
   "execution_count": 30,
   "id": "d52197a9-1bdc-408d-be90-fe1381104d73",
   "metadata": {},
   "outputs": [],
   "source": [
    "import cmath\n",
    "import numpy as np\n",
    "\n",
    "def fft(p, x):\n",
    "    n = len(p)\n",
    "    if n == 1:\n",
    "        return p\n",
    "    \n",
    "    evens = p[::2]\n",
    "    odds = p[1::2]\n",
    "    pe = fft(evens, x[::2])\n",
    "    po = fft(odds, x[::2])\n",
    "    y = [0 for i in x]\n",
    "    \n",
    "    l = n // 2\n",
    "    for i in range(l):\n",
    "        v = x[i] * po[i]\n",
    "        y[i] = pe[i] + v\n",
    "        y[i + l] = pe[i] - v\n",
    "    \n",
    "    return y"
   ]
  },
  {
   "cell_type": "code",
   "execution_count": 36,
   "id": "263c65fc-a586-4b8d-bf0c-bc5041057ba6",
   "metadata": {},
   "outputs": [
    {
     "name": "stdout",
     "output_type": "stream",
     "text": [
      "eval:   [(11+0j), (3+2.0000000000000004j), (3+2.449293598294706e-16j), (2.9999999999999996-1.9999999999999991j)]\n",
      "fft:    [(11+0j), (3+2j), (3+0j), (3-2j)]\n",
      "np fft: [11.+0.j  3.-2.j  3.+0.j  3.+2.j]\n"
     ]
    }
   ],
   "source": [
    "import cmath\n",
    "import numpy as np\n",
    "\n",
    "def roots(n):\n",
    "    \"\"\"\n",
    "    roots of unity, counter-clockwise order starting from 1\n",
    "    \"\"\"\n",
    "    return [cmath.exp((2 * cmath.pi * 1j * k) / n) for k in range(0, n)]\n",
    "\n",
    "p = [5, 3, 2, 1]\n",
    "x = roots(4)\n",
    "y = fft(p, x)\n",
    "\n",
    "print(\"eval:  \", [eval_poly(p, xi) for xi in x])\n",
    "print(\"fft:   \", y)\n",
    "print(\"np fft:\", np.fft.fft(p))"
   ]
  },
  {
   "cell_type": "code",
   "execution_count": 40,
   "id": "0fa1ea94-e298-4cf8-ba89-e07502f45232",
   "metadata": {},
   "outputs": [
    {
     "name": "stdout",
     "output_type": "stream",
     "text": [
      "[31, 70, 109, 74, 334, 181, 232, 4]\n",
      "[31, 70, 109, 74, 334, 181, 232, 4]\n"
     ]
    }
   ],
   "source": [
    "def fft_mod(p, x, mod):\n",
    "    n = len(p)\n",
    "    if n == 1:\n",
    "        return p\n",
    "    \n",
    "    evens = p[::2]\n",
    "    odds = p[1::2]\n",
    "    pe = fft_mod(evens, x[::2], mod)\n",
    "    po = fft_mod(odds, x[::2], mod)\n",
    "    y = [0 for i in x]\n",
    "    \n",
    "    l = n // 2\n",
    "    for i in range(l):\n",
    "        v = x[i] * po[i]\n",
    "        y[i] = (pe[i] + v) % mod\n",
    "        y[i + l] = (pe[i] - v) % mod\n",
    "    \n",
    "    return y\n",
    "\n",
    "p = [3, 1, 4, 1, 5, 9, 2, 6]\n",
    "x = [1, 85, 148, 111, 336, 252, 189, 226]\n",
    "\n",
    "print(fft_mod(p, x, 337))\n",
    "print([eval_poly(p, xi) % 337 for xi in x])"
   ]
  }
 ],
 "metadata": {
  "kernelspec": {
   "display_name": "Python 3 (ipykernel)",
   "language": "python",
   "name": "python3"
  },
  "language_info": {
   "codemirror_mode": {
    "name": "ipython",
    "version": 3
   },
   "file_extension": ".py",
   "mimetype": "text/x-python",
   "name": "python",
   "nbconvert_exporter": "python",
   "pygments_lexer": "ipython3",
   "version": "3.10.11"
  }
 },
 "nbformat": 4,
 "nbformat_minor": 5
}
