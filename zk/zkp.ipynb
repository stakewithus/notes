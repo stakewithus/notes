{
 "cells": [
  {
   "cell_type": "code",
   "execution_count": 85,
   "id": "ad2f3d22",
   "metadata": {},
   "outputs": [
    {
     "name": "stdout",
     "output_type": "stream",
     "text": [
      "problem [4, 11, 8, 1]\n",
      "witness [4, 8, -3, 5, 4]\n"
     ]
    }
   ],
   "source": [
    "# http://www.shirpeled.com/2018/10/a-hands-on-tutorial-for-zero-knowledge_4.html\n",
    "\n",
    "import random\n",
    "\n",
    "def get_witness(problem, assignment):\n",
    "    \"\"\"\n",
    "    Given an instance of a partition problem via a list of numbers (the problem) and a list of\n",
    "    (-1, 1), we say that the assignment satisfies the problem if their dot product is 0.\n",
    "    \"\"\"\n",
    "    assert len(problem) == len(assignment)\n",
    "\n",
    "    # partial sum\n",
    "    s = 0\n",
    "    side_obfuscator = 1 if random.random() > 0.5 else -1\n",
    "    witness = [s]\n",
    "    \n",
    "    for num, side in zip(problem, assignment):\n",
    "        assert side == 1 or side == -1\n",
    "        s += side * num * side_obfuscator\n",
    "        witness.append(s)\n",
    "    \n",
    "    assert s == 0\n",
    "    shift = random.randint(0, max(0, max(problem)))\n",
    "    witness = [x + shift for x in witness]\n",
    "        \n",
    "    return witness\n",
    "\n",
    "### Test\n",
    "problem = [4, 11, 8, 1]\n",
    "assignment = [1, -1, 1, -1]\n",
    "\n",
    "w = get_witness(problem, assignment)\n",
    "n = len(problem)\n",
    "\n",
    "print(\"problem\", problem)\n",
    "print(\"witness\", w)\n",
    "\n",
    "### Checks\n",
    "assert w[0] == w[n]\n",
    "\n",
    "for i in range(n):\n",
    "    assert abs(w[i + 1] - w[i]) == abs(problem[i])\n"
   ]
  }
 ],
 "metadata": {
  "kernelspec": {
   "display_name": "Python 3 (ipykernel)",
   "language": "python",
   "name": "python3"
  },
  "language_info": {
   "codemirror_mode": {
    "name": "ipython",
    "version": 3
   },
   "file_extension": ".py",
   "mimetype": "text/x-python",
   "name": "python",
   "nbconvert_exporter": "python",
   "pygments_lexer": "ipython3",
   "version": "3.10.6"
  }
 },
 "nbformat": 4,
 "nbformat_minor": 5
}
