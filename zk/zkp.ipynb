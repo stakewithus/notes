{
 "cells": [
  {
   "cell_type": "code",
   "execution_count": 18,
   "id": "ad2f3d22",
   "metadata": {},
   "outputs": [
    {
     "name": "stdout",
     "output_type": "stream",
     "text": [
      "problem [4, 11, 8, 1]\n",
      "witness [2, 6, -5, 3, 2]\n"
     ]
    }
   ],
   "source": [
    "# http://www.shirpeled.com/2018/10/a-hands-on-tutorial-for-zero-knowledge_4.html\n",
    "\n",
    "import random\n",
    "\n",
    "def get_witness(problem, assignment):\n",
    "    \"\"\"\n",
    "    Given an instance of a partition problem via a list of numbers (the problem) and a list of\n",
    "    (-1, 1), we say that the assignment satisfies the problem if their dot product is 0.\n",
    "    \"\"\"\n",
    "    assert len(problem) == len(assignment)\n",
    "\n",
    "    # partial sum\n",
    "    s = 0\n",
    "    side_obfuscator = 1 if random.random() > 0.5 else -1\n",
    "    witness = [s]\n",
    "    \n",
    "    for num, side in zip(problem, assignment):\n",
    "        assert side == 1 or side == -1\n",
    "        s += side * num * side_obfuscator\n",
    "        witness.append(s)\n",
    "    \n",
    "    assert s == 0\n",
    "    shift = random.randint(0, max(0, max(problem)))\n",
    "    witness = [x + shift for x in witness]\n",
    "        \n",
    "    return witness\n",
    "\n",
    "### Test\n",
    "problem = [4, 11, 8, 1]\n",
    "assignment = [1, -1, 1, -1]\n",
    "\n",
    "w = get_witness(problem, assignment)\n",
    "n = len(problem)\n",
    "\n",
    "print(\"problem\", problem)\n",
    "print(\"witness\", w)\n",
    "\n",
    "### Checks\n",
    "assert w[0] == w[n]\n",
    "\n",
    "for i in range(n):\n",
    "    assert abs(w[i + 1] - w[i]) == abs(problem[i])\n"
   ]
  },
  {
   "cell_type": "code",
   "execution_count": 19,
   "id": "c1456d1d",
   "metadata": {},
   "outputs": [
    {
     "data": {
      "text/plain": [
       "True"
      ]
     },
     "execution_count": 19,
     "metadata": {},
     "output_type": "execute_result"
    }
   ],
   "source": [
    "import hashlib\n",
    "from math import log2, ceil\n",
    "\n",
    "def hash_string(s):\n",
    "    return hashlib.sha256(s.encode()).hexdigest()\n",
    "\n",
    "class MerkleTree:\n",
    "    \"\"\"\n",
    "    A naive Merkle tree implementation using SHA256\n",
    "    \"\"\"\n",
    "    def __init__(self, data):\n",
    "        self.data = data\n",
    "        next_pow_of_2 = int(2**ceil(log2(len(data))))\n",
    "        self.data.extend([0] * (next_pow_of_2 - len(data)))\n",
    "        self.tree = [\"\" for x in self.data] + \\\n",
    "                    [hash_string(str(x)) for x in self.data]\n",
    "        for i in range(len(self.data) - 1, 0, -1):\n",
    "            self.tree[i] = hash_string(self.tree[i * 2] + self.tree[i * 2 + 1])\n",
    "\n",
    "    def get_root(self):\n",
    "        return self.tree[1]\n",
    "\n",
    "    def get_val_and_path(self, i):\n",
    "        val = self.data[i]\n",
    "        auth_path = []\n",
    "        i = i + len(self.data)\n",
    "        while i > 1:\n",
    "            auth_path += [self.tree[i ^ 1]]\n",
    "            i = i // 2\n",
    "        return val, auth_path\n",
    "\n",
    "def verify(root, data_size, i, value, path):\n",
    "    cur = hash_string(str(value))\n",
    "    tree_node_id = i + int(2**ceil(log2(data_size)))\n",
    "    for sibling in path:\n",
    "        assert tree_node_id > 1\n",
    "        if tree_node_id % 2 == 0:\n",
    "            cur = hash_string(cur + sibling)\n",
    "        else:\n",
    "            cur = hash_string(sibling + cur)\n",
    "        tree_node_id = tree_node_id // 2\n",
    "    assert tree_node_id == 1\n",
    "    return root == cur\n",
    "\n",
    "data = [\"Yes\", \"Sir\", \"I Can\", \"Boogie!\"]\n",
    "merkle_tree = MerkleTree(data)\n",
    "\n",
    "root = merkle_tree.get_root()\n",
    "(val, path) = merkle_tree.get_val_and_path(1)\n",
    "\n",
    "verify(root, len(data), 1, val, path)"
   ]
  },
  {
   "cell_type": "code",
   "execution_count": 20,
   "id": "688dc711",
   "metadata": {},
   "outputs": [
    {
     "data": {
      "text/plain": [
       "True"
      ]
     },
     "execution_count": 20,
     "metadata": {},
     "output_type": "execute_result"
    }
   ],
   "source": [
    "import random\n",
    "\n",
    "class ZkMerkleTree:\n",
    "    \"\"\"\n",
    "    A Zero Knowledge Merkle tree implementation using SHA256\n",
    "    \"\"\"\n",
    "    def __init__(self, data):\n",
    "        self.data = data\n",
    "        next_pow_of_2 = int(2**ceil(log2(len(data))))\n",
    "        self.data.extend([0] * (next_pow_of_2 - len(data)))\n",
    "        # Intertwine with randomness to obtain zero knowledge.\n",
    "        rand_list = [random.randint(0, 1 << 32) for x in self.data]\n",
    "        self.data = [x for tup in zip(self.data, rand_list) for x in tup]\n",
    "        # Create bottom level of the tree (i.e. leaves).\n",
    "        self.tree = [\"\" for x in self.data] + \\\n",
    "                    [hash_string(str(x)) for x in self.data]\n",
    "        for i in range(len(self.data) - 1, 0, -1):\n",
    "            self.tree[i] = hash_string(self.tree[i * 2] + self.tree[i * 2 + 1])\n",
    "\n",
    "    def get_root(self):\n",
    "        return self.tree[1]\n",
    "\n",
    "    def get_val_and_path(self, i):\n",
    "        # Because of the zk padding, the data is now at id * 2\n",
    "        i = i * 2\n",
    "        val = self.data[i]\n",
    "        auth_path = []\n",
    "        i = i + len(self.data)\n",
    "        while i > 1:\n",
    "            auth_path += [self.tree[i ^ 1]]\n",
    "            i = i // 2\n",
    "        return val, auth_path\n",
    "\n",
    "def verify_zk(root, data_size, i, value, path):\n",
    "    cur = hash_string(str(value))\n",
    "    # Due to zk padding, data_size needs to be multiplied by 2, as does the value_id\n",
    "    tree_node_id = i * 2 + int(2**ceil(log2(data_size * 2)))\n",
    "    for sibling in path:\n",
    "        assert tree_node_id > 1\n",
    "        if tree_node_id % 2 == 0:\n",
    "            cur = hash_string(cur + sibling)\n",
    "        else:\n",
    "            cur = hash_string(sibling + cur)\n",
    "        tree_node_id = tree_node_id // 2\n",
    "    assert tree_node_id == 1\n",
    "    return root == cur\n",
    "\n",
    "data = [\"Yes\", \"Sir\", \"I Can\", \"Boogie!\"]\n",
    "zk_merkle_tree = ZkMerkleTree(data)\n",
    "\n",
    "root = zk_merkle_tree.get_root()\n",
    "(val, path) = zk_merkle_tree.get_val_and_path(1)\n",
    "\n",
    "verify_zk(root, len(data), 1, val, path)"
   ]
  },
  {
   "cell_type": "code",
   "execution_count": 21,
   "id": "a1443102",
   "metadata": {},
   "outputs": [
    {
     "name": "stdout",
     "output_type": "stream",
     "text": [
      "[['bda6731996768a7c7b22e15f9b5c471e24f9f62280d9e00850fa0a0419916ab5', 3, -2, ['a47072bd2b6331c7a62342461ac054707b9fa7d9a9ab89a3a5f87791fa1bb462', 'bfe8106e3a1c642d67a77291460dced46d3f02715c0c7a7a3d00f3dfafd82abb', '4fadeb086017522850e824628168b54d4ca51d0dc58924fc08c82a97645cfe3d', '31cdd36cbead976c90e746f9c32230d5a432c476396774bde5f73058b45a0c16'], 4, ['6df2a639d10bc7ccb8f5ecce2b8646aa54b9d45c63feca81033c1ccd5a45f93c', 'a909e6d4ee4b74fa7e485e5a726ce67639052cb9424c86ded82ee0f9429a2b1c', 'b9a296bf77dca655aeed49eb07020b5204ab93b354b4385b38642d1a1df9e25d', '0b08e63cdfd1b758e2627c229e148b641982fba468832825164064c8f3d5a8a7']], ['b45be0a0000bd9cb6e77ffe40e73578ec5d276a22b40f5c2508f056d6c5bec56', 6, 15, ['b703a38bb22b758c5c23c08f096b6c3155c56885d57e1280ff521126282fa857', 'b59f0967fa41b6e5ef76d7adef6dff327d60cb23fcaf54361c93e0b07850d4b4', 'df6350b39f2cdc5e768d4f99b129c5c288c7feafb4132c5346535ecdc9c8ed0c', '21531f0f5e521ba665dee3cfcc45045336e132418975e1c5162f1e204d8e69ba'], 3, ['3eab3273f262d71caa9ff9d40c116f5b3830dd679009019ecdf6c8a99aa16b58', 'ea63a021f2e23e6c7fe7cfc0a23b02ac0c86da154780b3b345d8fe8e0ab6355b', 'df6350b39f2cdc5e768d4f99b129c5c288c7feafb4132c5346535ecdc9c8ed0c', '21531f0f5e521ba665dee3cfcc45045336e132418975e1c5162f1e204d8e69ba']], ['8c9b7ba673626a25f8be58a42a1da8c869f2f099be04aa0883c06c5de2e48421', 5, -2, ['2a2fdf4fdfa740e90aee72db91e9e30c5488b7baad7cb8f633bf8022e87123d7', 'efcc30e5d5f718e13bfc401af568ecc7c858e9d32133f4401cfb71cd38814f80', '464c696d1bcf7f072d0252b008bec082da9316e6f3d626b972c26c734c465a4e', 'cdbdc281f216d8039cd60662811ffac440ce75cb3a68ea493cf1fe90d6d93800'], -8, ['760ec1e7f2499f40bca055e466aeefdce261a2f00b34e30e449ba707badde8f0', 'e2779db0f1fb3daa77330825d9dca81df83d1161c50901e7821cdd4b51704051', '2dab2f542f028df4471570cee4b6380df685dd87da1101a539eb3faa0c656232', 'cdbdc281f216d8039cd60662811ffac440ce75cb3a68ea493cf1fe90d6d93800']], ['18108bd39bcec0b135b09ae67a0f3c08f0c0017038fd68564a83d261f8726081', 4, 12, ['a2fa87da1a398f68f723ddd48cf8c8c8b7160b84ca1e94c572204d727491c97d', '2bddb453fc7c6330c241d7fd889e5487cc36b44f87a00db55d70e6300c7f3ea0', 'a62f6dcd7b21781c7afe9a72779894e91da31a140cf56b3b0355d2fada237e54', '97fcb09c4f23cf88fcc2e9be3e4825eb579bef8681a9090c01b2131216157148'], 6, ['8ba02d540184b778d4e70c2e618f49e6cdd4cfd62bbb6ddc06456289c0946687', '7cb1248ba09cf265dba5be76af54b5de1d42f215f374b61d1affc0e81cb73410', 'a62f6dcd7b21781c7afe9a72779894e91da31a140cf56b3b0355d2fada237e54', '97fcb09c4f23cf88fcc2e9be3e4825eb579bef8681a9090c01b2131216157148']]]\n"
     ]
    },
    {
     "data": {
      "text/plain": [
       "True"
      ]
     },
     "execution_count": 21,
     "metadata": {},
     "output_type": "execute_result"
    }
   ],
   "source": [
    "def get_proof(problem, assignment, num_queries):\n",
    "    proof = []\n",
    "    randomness_seed = problem[:]\n",
    "    for i in range(num_queries):\n",
    "        witness = get_witness(problem, assignment)\n",
    "        tree = ZkMerkleTree(witness)\n",
    "        random.seed(str(randomness_seed))\n",
    "        query_idx = random.randint(0, len(problem))\n",
    "        query_and_response = [tree.get_root()]\n",
    "        query_and_response += [query_idx]\n",
    "        query_and_response += tree.get_val_and_path(query_idx)\n",
    "        query_and_response += tree.get_val_and_path((query_idx + 1) % len(witness))\n",
    "        proof += [query_and_response]\n",
    "        randomness_seed += [query_and_response]\n",
    "    return proof\n",
    "\n",
    "def verify_proof(problem, proof):\n",
    "    proof_checks_out = True\n",
    "    randomness_seed = problem[:]\n",
    "    for query in proof:\n",
    "        random.seed(str(randomness_seed))\n",
    "        query_idx = random.randint(0, len(problem))\n",
    "        merkle_root = query[0]\n",
    "        proof_checks_out &= query_idx == query[1]\n",
    "        # Test witness properties.\n",
    "        if query_idx < len(problem):\n",
    "            proof_checks_out &= abs(query[2] - query[4]) == abs(problem[query_idx])\n",
    "        else:\n",
    "            proof_checks_out &= query[2] == query[4]\n",
    "        # Authenticate paths\n",
    "        proof_checks_out &= \\\n",
    "            verify_zk_merkle_path(merkle_root, len(problem) + 1, query_idx, query[2], query[3])\n",
    "        proof_checks_out &= \\\n",
    "            verify_zk_merkle_path(merkle_root, len(problem) + 1, \\\n",
    "                                 (query_idx + 1) % (len(problem) + 1), query[4], query[5])\n",
    "        randomness_seed += [query]\n",
    "    return proof_checks_out\n",
    "\n",
    "def test(q):\n",
    "    problem = [1, 2, 3, 6, 6, 6, 12]\n",
    "    assignment = [1, 1, 1, -1, -1, -1, 1]\n",
    "    proof = get_proof(problem, assignment, q)\n",
    "    print(proof)\n",
    "    return verify_proof(problem, proof)\n",
    "\n",
    "test(4)"
   ]
  }
 ],
 "metadata": {
  "kernelspec": {
   "display_name": "Python 3 (ipykernel)",
   "language": "python",
   "name": "python3"
  },
  "language_info": {
   "codemirror_mode": {
    "name": "ipython",
    "version": 3
   },
   "file_extension": ".py",
   "mimetype": "text/x-python",
   "name": "python",
   "nbconvert_exporter": "python",
   "pygments_lexer": "ipython3",
   "version": "3.10.6"
  }
 },
 "nbformat": 4,
 "nbformat_minor": 5
}
