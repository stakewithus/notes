{
 "cells": [
  {
   "cell_type": "code",
   "execution_count": 85,
   "id": "ad2f3d22",
   "metadata": {},
   "outputs": [
    {
     "name": "stdout",
     "output_type": "stream",
     "text": [
      "problem [4, 11, 8, 1]\n",
      "witness [4, 8, -3, 5, 4]\n"
     ]
    }
   ],
   "source": [
    "# http://www.shirpeled.com/2018/10/a-hands-on-tutorial-for-zero-knowledge_4.html\n",
    "\n",
    "import random\n",
    "\n",
    "def get_witness(problem, assignment):\n",
    "    \"\"\"\n",
    "    Given an instance of a partition problem via a list of numbers (the problem) and a list of\n",
    "    (-1, 1), we say that the assignment satisfies the problem if their dot product is 0.\n",
    "    \"\"\"\n",
    "    assert len(problem) == len(assignment)\n",
    "\n",
    "    # partial sum\n",
    "    s = 0\n",
    "    side_obfuscator = 1 if random.random() > 0.5 else -1\n",
    "    witness = [s]\n",
    "    \n",
    "    for num, side in zip(problem, assignment):\n",
    "        assert side == 1 or side == -1\n",
    "        s += side * num * side_obfuscator\n",
    "        witness.append(s)\n",
    "    \n",
    "    assert s == 0\n",
    "    shift = random.randint(0, max(0, max(problem)))\n",
    "    witness = [x + shift for x in witness]\n",
    "        \n",
    "    return witness\n",
    "\n",
    "### Test\n",
    "problem = [4, 11, 8, 1]\n",
    "assignment = [1, -1, 1, -1]\n",
    "\n",
    "w = get_witness(problem, assignment)\n",
    "n = len(problem)\n",
    "\n",
    "print(\"problem\", problem)\n",
    "print(\"witness\", w)\n",
    "\n",
    "### Checks\n",
    "assert w[0] == w[n]\n",
    "\n",
    "for i in range(n):\n",
    "    assert abs(w[i + 1] - w[i]) == abs(problem[i])\n"
   ]
  },
  {
   "cell_type": "code",
   "execution_count": 9,
   "id": "ad2cdc02",
   "metadata": {},
   "outputs": [
    {
     "data": {
      "text/plain": [
       "True"
      ]
     },
     "execution_count": 9,
     "metadata": {},
     "output_type": "execute_result"
    }
   ],
   "source": [
    "import hashlib\n",
    "from math import log2, ceil\n",
    "\n",
    "def hash_string(s):\n",
    "    return hashlib.sha256(s.encode()).hexdigest()\n",
    "\n",
    "class MerkleTree:\n",
    "    \"\"\"\n",
    "    A naive Merkle tree implementation using SHA256\n",
    "    \"\"\"\n",
    "    def __init__(self, data):\n",
    "        self.data = data\n",
    "        next_pow_of_2 = int(2**ceil(log2(len(data))))\n",
    "        self.data.extend([0] * (next_pow_of_2 - len(data)))\n",
    "        self.tree = [\"\" for x in self.data] + \\\n",
    "                    [hash_string(str(x)) for x in self.data]\n",
    "        for i in range(len(self.data) - 1, 0, -1):\n",
    "            self.tree[i] = hash_string(self.tree[i * 2] + self.tree[i * 2 + 1])\n",
    "\n",
    "    def get_root(self):\n",
    "        return self.tree[1]\n",
    "\n",
    "    def get_val_and_path(self, i):\n",
    "        val = self.data[i]\n",
    "        auth_path = []\n",
    "        i = i + len(self.data)\n",
    "        while i > 1:\n",
    "            auth_path += [self.tree[i ^ 1]]\n",
    "            i = i // 2\n",
    "        return val, auth_path\n",
    "\n",
    "def verify(root, data_size, i, value, path):\n",
    "    cur = hash_string(str(value))\n",
    "    tree_node_id = i + int(2**ceil(log2(data_size)))\n",
    "    for sibling in path:\n",
    "        assert tree_node_id > 1\n",
    "        if tree_node_id % 2 == 0:\n",
    "            cur = hash_string(cur + sibling)\n",
    "        else:\n",
    "            cur = hash_string(sibling + cur)\n",
    "        tree_node_id = tree_node_id // 2\n",
    "    assert tree_node_id == 1\n",
    "    return root == cur\n",
    "\n",
    "data = [\"Yes\", \"Sir\", \"I Can\", \"Boogie!\"]\n",
    "merkle_tree = MerkleTree(data)\n",
    "\n",
    "root = merkle_tree.get_root()\n",
    "(val, path) = merkle_tree.get_val_and_path(1)\n",
    "\n",
    "verify(root, len(data), 1, val, path)"
   ]
  }
 ],
 "metadata": {
  "kernelspec": {
   "display_name": "Python 3 (ipykernel)",
   "language": "python",
   "name": "python3"
  },
  "language_info": {
   "codemirror_mode": {
    "name": "ipython",
    "version": 3
   },
   "file_extension": ".py",
   "mimetype": "text/x-python",
   "name": "python",
   "nbconvert_exporter": "python",
   "pygments_lexer": "ipython3",
   "version": "3.10.6"
  }
 },
 "nbformat": 4,
 "nbformat_minor": 5
}
